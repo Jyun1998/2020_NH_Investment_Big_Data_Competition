{
  "nbformat": 4,
  "nbformat_minor": 0,
  "metadata": {
    "colab": {
      "name": "Mecab + BiLTSM.ipynb",
      "provenance": []
    },
    "kernelspec": {
      "display_name": "Python 3",
      "name": "python3"
    }
  },
  "cells": [
    {
      "cell_type": "code",
      "metadata": {
        "id": "R7xvjUpZh2Ii"
      },
      "source": [
        "import numpy as np      \n",
        "import pandas as pd       \n",
        "import re\n",
        "import matplotlib.pyplot as plt   \n",
        "import seaborn as sns"
      ],
      "execution_count": null,
      "outputs": []
    },
    {
      "cell_type": "code",
      "metadata": {
        "id": "c29ozAc1wI4a"
      },
      "source": [
        "%%time\n",
        "! git clone https://github.com/SOMJANG/Mecab-ko-for-Google-Colab.git\n",
        "%cd /content/Mecab-ko-for-Google-Colab\n",
        "!bash install_mecab-ko_on_colab190912.sh\n",
        "%cd ../"
      ],
      "execution_count": null,
      "outputs": []
    },
    {
      "cell_type": "code",
      "metadata": {
        "colab": {
          "base_uri": "https://localhost:8080/"
        },
        "id": "E9Irm4p3iI68",
        "outputId": "5e8e48aa-9655-4ed9-b019-c891a1d3ff10"
      },
      "source": [
        "train = pd.read_csv(\"/content/drive/My Drive/dacon/news_train.csv\") # train.csv 불러오기\n",
        "test = pd.read_csv(\"/content/drive/My Drive/dacon/news_test.csv\") # test.csv 불러오기\n",
        "\n",
        "print(test.shape)\n",
        "print(train.shape)\n"
      ],
      "execution_count": null,
      "outputs": [
        {
          "output_type": "stream",
          "text": [
            "(142565, 6)\n",
            "(118745, 6)\n"
          ],
          "name": "stdout"
        }
      ]
    },
    {
      "cell_type": "code",
      "metadata": {
        "id": "_ddtV5eWlcYS"
      },
      "source": [
        "from tqdm import tqdm\n",
        "import re\n",
        "\n",
        "def preprocess(text):\n",
        "    # remove hyperlinks\n",
        "    text = re.sub(r'https?:\\/\\/.*[\\r\\n]*', '', text)\n",
        "    text = re.sub(r'http?:\\/\\/.*[\\r\\n]*', '', text)\n",
        "    #remove some puncts (except . ! ?)\n",
        "    text=re.sub(r'[-=+,#/\\?:^$.@*\\\"※~&%ㆍ!』\\\\‘|\\(\\)\\[\\]\\<\\>`\\'…》]', '',text)\n",
        "    text=\" \".join(text.split())\n",
        "    return text\n",
        "\n",
        "train['clean_text'] = train['content'].apply(preprocess)\n",
        "test['clean_text'] = test['content'].apply(preprocess)\n",
        "train['clean_title'] = train['title'].apply(preprocess)\n",
        "test['clean_title'] = test['title'].apply(preprocess)\n",
        "train[\"id\"] = train[\"n_id\"].astype(str) + '_' + train[\"ord\"].astype(str)\n",
        "train.drop(['n_id', 'ord', 'title', 'content'],axis = 1) "
      ],
      "execution_count": null,
      "outputs": []
    },
    {
      "cell_type": "code",
      "metadata": {
        "id": "TIn4gBgX2S9-"
      },
      "source": [
        "from konlpy.tag import Mecab\n",
        "\n",
        "mecab = Mecab()\n",
        "combine = [train, test]\n",
        "p = [\"NNG\", \"NNP\", \"VV\", \"VA\", \"MAG\"]\n",
        "stopwords = ['의', '가', '이', '은', '들', '는', '좀', '잘', '걍', '과', '도', '를', '으로', '자', '에', '와', '한', '하다']\n",
        "\n",
        "def tokenizer(data, pos=p, stopword=stopwords):\n",
        "  tokened = mecab.pos(data)\n",
        "  return [word for word, tag in tokened if tag in pos and word not in stopword]\n",
        "\n",
        "train['text_tokenized'] = train['clean_text'].apply(tokenizer)\n",
        "test['text_tokenized'] = test['clean_text'].apply(tokenizer)\n",
        "train['title_tokenized'] = train['clean_title'].apply(tokenizer)\n",
        "test['title_tokenized'] = test['clean_title'].apply(tokenizer)\n"
      ],
      "execution_count": null,
      "outputs": []
    },
    {
      "cell_type": "code",
      "metadata": {
        "id": "4p7d6mB82rHi"
      },
      "source": [
        "from keras.preprocessing.text import Tokenizer\n",
        "\n",
        "t1 = train['text_tokenized'].tolist() \n",
        "t2 = test['text_tokenized'].tolist() \n",
        "t3 = train['title_tokenized'].tolist() \n",
        "t4 = test['title_tokenized'].tolist() \n",
        "\n",
        "max_words = 35000\n",
        "tokenizer = Tokenizer(num_words = max_words)\n",
        "tokenizer.fit_on_texts(t1+t2+t3+t4)\n",
        "train_body_token = tokenizer.texts_to_sequences(t1)\n",
        "test_body_token = tokenizer.texts_to_sequences(t2)\n",
        "train_head_token = tokenizer.texts_to_sequences(t3)\n",
        "test_head_token = tokenizer.texts_to_sequences(t4)"
      ],
      "execution_count": null,
      "outputs": []
    },
    {
      "cell_type": "code",
      "metadata": {
        "id": "_XZmCOFb2rKM"
      },
      "source": [
        "from keras.utils import np_utils\n",
        "import numpy as np\n",
        "\n",
        "y_train = []\n",
        "\n",
        "for i in range(len(train['info'])):\n",
        "  if train['info'].iloc[i] == 1:\n",
        "    y_train.append([0, 1])\n",
        "  elif train['info'].iloc[i] == 0:\n",
        "    y_train.append([1, 0])\n",
        "\n",
        "y_train = np.array(y_train)\n"
      ],
      "execution_count": null,
      "outputs": []
    },
    {
      "cell_type": "code",
      "metadata": {
        "id": "Z5McbGPH2rM1"
      },
      "source": [
        "from keras.layers import Embedding, Dense, LSTM, Dropout,Bidirectional\n",
        "from keras.models import Sequential\n",
        "from keras.preprocessing.sequence import pad_sequences\n",
        "from keras import optimizers    \n"
      ],
      "execution_count": null,
      "outputs": []
    },
    {
      "cell_type": "code",
      "metadata": {
        "id": "04zsG2Us2-yz"
      },
      "source": [
        "#padding with fine-tuned max len\n",
        "max_len = 120\n",
        "\n",
        "X_train = pad_sequences(train_body_token, maxlen=max_len)\n",
        "X_test = pad_sequences(test_body_token, maxlen=max_len)"
      ],
      "execution_count": null,
      "outputs": []
    },
    {
      "cell_type": "code",
      "metadata": {
        "colab": {
          "base_uri": "https://localhost:8080/"
        },
        "id": "GcBfypgq2-1s",
        "outputId": "36faa832-8f6d-42e7-a9d0-4a253d5e3e91"
      },
      "source": [
        "#modelling with bi-ltsm\n",
        "model3 = Sequential()\n",
        "model3.add(Embedding(max_words, 100))\n",
        "model3.add(Bidirectional(LSTM(128,dropout=0.2, recurrent_dropout=0.2)))\n",
        "model3.add(Dense(64, activation='relu'))\n",
        "model3.add(Dropout(0.4))\n",
        "model3.add(Dense(32, activation='relu'))\n",
        "model3.add(Dropout(0.4))\n",
        "model3.add(Dense(2, activation='sigmoid'))\n",
        "adam = optimizers.Adam(lr=0.003, amsgrad = True)\n",
        "\n",
        "model3.compile(optimizer=adam, loss='binary_crossentropy', metrics=['accuracy'])\n",
        "history3 = model3.fit(X_train, y_train, epochs=2, batch_size=32, validation_split=0.1)\n"
      ],
      "execution_count": null,
      "outputs": [
        {
          "output_type": "stream",
          "text": [
            "Epoch 1/2\n",
            "3340/3340 [==============================] - 2299s 688ms/step - loss: 0.1248 - accuracy: 0.9571 - val_loss: 0.0366 - val_accuracy: 0.9869\n",
            "Epoch 2/2\n",
            "3340/3340 [==============================] - 2290s 686ms/step - loss: 0.0443 - accuracy: 0.9853 - val_loss: 0.0671 - val_accuracy: 0.9667\n"
          ],
          "name": "stdout"
        }
      ]
    },
    {
      "cell_type": "code",
      "metadata": {
        "id": "Qtvuoy8g2-4O",
        "colab": {
          "base_uri": "https://localhost:8080/",
          "height": 279
        },
        "outputId": "6338d531-d0dc-4b29-99d5-bd92b40d5e53"
      },
      "source": [
        "fig, loss_ax = plt.subplots()\n",
        "acc_ax = loss_ax.twinx()\n",
        "\n",
        "loss_ax.plot(history3.history['loss'], 'y', label='train loss')\n",
        "loss_ax.plot(history3.history['val_loss'], 'r', label='val loss')\n",
        "loss_ax.set_xlabel('epoch')\n",
        "loss_ax.set_ylabel('loss')\n",
        "loss_ax.legend(loc='upper left')\n",
        "\n",
        "acc_ax.plot(history3.history['accuracy'], 'b', label='train acc')\n",
        "acc_ax.plot(history3.history['val_accuracy'], 'g', label='val acc')\n",
        "acc_ax.set_ylabel('accuracy')\n",
        "acc_ax.legend(loc='upper left')\n",
        "\n",
        "plt.show()\n"
      ],
      "execution_count": null,
      "outputs": [
        {
          "output_type": "display_data",
          "data": {
            "image/png": "[encoded data removed]",
            "text/plain": [
              "<Figure size 432x288 with 2 Axes>"
            ]
          },
          "metadata": {
            "tags": [],
            "needs_background": "light"
          }
        }
      ]
    },
    {
      "cell_type": "code",
      "metadata": {
        "id": "vJHPSzCP3Ekj"
      },
      "source": [
        "model3.save(\"/content/drive/My Drive/dacon/12_18.h5\")"
      ],
      "execution_count": null,
      "outputs": []
    },
    {
      "cell_type": "code",
      "metadata": {
        "id": "bif98SWo3EoD"
      },
      "source": [
        "mypredict = model3.predict(X_test)\n",
        "my_result= [1 if i[1] >= 0.5 else 0 for i in mypredict]\n",
        "\n",
        "submission = pd.read_csv('/content/drive/My Drive/dacon/sample_submission.csv', index_col= 'id')\n",
        "submission['info'] = my_result\n",
        "submission.to_csv(\"/content/drive/My Drive/dacon/biltsm_overboost.csv\")"
      ],
      "execution_count": null,
      "outputs": []
    },
    {
      "cell_type": "code",
      "metadata": {
        "id": "Yc_IPn1_JVj7"
      },
      "source": [
        ""
      ],
      "execution_count": null,
      "outputs": []
    }
  ]
}