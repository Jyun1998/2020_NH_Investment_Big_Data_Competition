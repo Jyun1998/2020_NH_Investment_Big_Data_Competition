{
  "nbformat": 4,
  "nbformat_minor": 0,
  "metadata": {
    "colab": {
      "name": "mecab_lightgbm mnb+lsvm+lightgbm ensemble",
      "provenance": []
    },
    "kernelspec": {
      "display_name": "Python 3",
      "name": "python3"
    },
    "accelerator": "GPU"
  },
  "cells": [
    {
      "cell_type": "markdown",
      "metadata": {
        "id": "9B3_azLJbZSU"
      },
      "source": [
        "1. 데이터를 자르니 오히려 점수가 내려감\r\n",
        "2. n_estimator 300과 2000의 차이는 0.02 accuracy, 시간은 2분30초 더 걸림\r\n",
        "3. lightgbm으로 밀고나가려면 hypterparameter tuning + 전처리에 시간을 투자해야 할 듯\r\n",
        "4. bidirectional ltsm도 해보자\r\n"
      ]
    },
    {
      "cell_type": "code",
      "metadata": {
        "id": "ZS9ASprvJYxE"
      },
      "source": [
        "!git clone -- recursive https://github.com/Microsoft/LightGBM\n",
        "%cd /content/LightGBM\n",
        "!mkdir build\n",
        "!cmake -DUSE_GPU=1 #avoid ..\n",
        "!make -j$(nproc)\n",
        "!sudo apt-get -y install python-pip\n",
        "%cd /content/LightGBM/python-package\n",
        "!sudo python setup.py install — precompile\n"
      ],
      "execution_count": null,
      "outputs": []
    },
    {
      "cell_type": "code",
      "metadata": {
        "id": "OzQsWMnfoSVB"
      },
      "source": [
        "! git clone https://github.com/SOMJANG/Mecab-ko-for-Google-Colab.git\r\n",
        "%cd /content/Mecab-ko-for-Google-Colab\r\n",
        "!bash install_mecab-ko_on_colab190912.sh\r\n",
        "%cd ../"
      ],
      "execution_count": null,
      "outputs": []
    },
    {
      "cell_type": "code",
      "metadata": {
        "id": "R7xvjUpZh2Ii"
      },
      "source": [
        "import MeCab\n",
        "import re\n",
        "import random\n",
        "import time\n",
        "import datetime\n",
        "import numpy as np      \n",
        "import pandas as pd       \n",
        "\n",
        "import matplotlib.pyplot as plt   \n",
        "from IPython.display import Image\n",
        "from collections import Counter\n",
        "from tqdm import tqdm \n",
        "from sklearn.feature_extraction.text import TfidfVectorizer\n",
        "from sklearn.model_selection import train_test_split\n",
        "from sklearn.metrics import roc_auc_score\n",
        "from lightgbm import LGBMClassifier"
      ],
      "execution_count": null,
      "outputs": []
    },
    {
      "cell_type": "code",
      "metadata": {
        "id": "OyeU706yp6yv"
      },
      "source": [
        "def preprocess(text):\r\n",
        "    # remove hyperlinks\r\n",
        "    text = re.sub(r'https?:\\/\\/.*[\\r\\n]*', '', text)\r\n",
        "    text = re.sub(r'http?:\\/\\/.*[\\r\\n]*', '', text)\r\n",
        "    #remove some puncts (except . ! ?)\r\n",
        "    text=re.sub(r'[-=+,#/\\?:^$.@*\\\"※~&%ㆍ!』\\\\‘|\\(\\)\\[\\]\\<\\>`\\'…》]', '',text)\r\n",
        "    text=\" \".join(text.split())\r\n",
        "    return text\r\n",
        "\r\n",
        "mecab = MeCab.Tagger()\r\n",
        "def mecab_morphs(text):\r\n",
        "    morphs = []\r\n",
        "    pattern = re.compile(\".*\\t[A-Z]+\") \r\n",
        "    # konlpy의 mecab output 형태와 같게 만들어주기\r\n",
        "    temp = [tuple(pattern.match(token).group(0).split(\"\\t\")) for token in mecab.parse(text).splitlines()[:-1]]\r\n",
        "    \r\n",
        "    for token in temp:\r\n",
        "        morphs.append(token[0])\r\n",
        "    return morphs"
      ],
      "execution_count": null,
      "outputs": []
    },
    {
      "cell_type": "code",
      "metadata": {
        "colab": {
          "base_uri": "https://localhost:8080/"
        },
        "id": "E9Irm4p3iI68",
        "outputId": "46518962-bdf7-47bc-feb9-415d0fe98f3b"
      },
      "source": [
        "%%time\n",
        "train = pd.read_csv(\"/content/drive/My Drive/dacon/news_train.csv\") # train.csv 불러오기\n",
        "test = pd.read_csv(\"/content/drive/My Drive/dacon/news_test.csv\") # test.csv 불러오기\n",
        "train[\"id\"] = train[\"n_id\"].astype(str) + '_' + train[\"ord\"].astype(str)\n",
        "train.drop(['n_id', 'ord'],axis = 1) \n",
        "\n",
        "train['clean_content'] = train['content'].apply(preprocess)\n",
        "test['clean_content'] = test['content'].apply(preprocess)\n",
        "train['clean_title'] = train['title'].apply(preprocess)\n",
        "test['clean_title'] = test['title'].apply(preprocess)"
      ],
      "execution_count": null,
      "outputs": [
        {
          "output_type": "stream",
          "text": [
            "CPU times: user 3.05 s, sys: 140 ms, total: 3.19 s\n",
            "Wall time: 8.04 s\n"
          ],
          "name": "stdout"
        }
      ]
    },
    {
      "cell_type": "code",
      "metadata": {
        "id": "t7PtIncYsa49"
      },
      "source": [
        "test_paragraph=pd.DataFrame(test['clean_content'])\r\n",
        "test_title=pd.DataFrame(test['clean_title'])\r\n",
        "train_paragraph=pd.DataFrame(train['clean_content'])\r\n",
        "train_title=pd.DataFrame(train['clean_title'])\r\n",
        "train_yy=pd.DataFrame(train['info'])\r\n",
        "test['info']=2\r\n",
        "test_yy=pd.DataFrame(test['info'])\r\n"
      ],
      "execution_count": null,
      "outputs": []
    },
    {
      "cell_type": "code",
      "metadata": {
        "colab": {
          "base_uri": "https://localhost:8080/"
        },
        "id": "wtTQgvlfqfTm",
        "outputId": "e30d7e2a-b1c3-46ff-df4d-9fafcebdba68"
      },
      "source": [
        "train_par = [(mecab_morphs(x), y) for x, y in tqdm(zip( train_paragraph['clean_content'], train_yy['info']))]\r\n",
        "test_par = [(mecab_morphs(x), y) for x, y in tqdm(zip( test_paragraph['clean_content'], test_yy['info']))]\r\n",
        "train_tit = [(mecab_morphs(x), y) for x, y in tqdm(zip( test_title['clean_title'], train_yy['info']))]\r\n",
        "test_tit = [(mecab_morphs(x), y) for x, y in tqdm(zip( test_title['clean_title'], test_yy['info']))]\r\n"
      ],
      "execution_count": null,
      "outputs": [
        {
          "output_type": "stream",
          "text": [
            "118745it [00:16, 7178.62it/s]\n",
            "142565it [00:19, 7142.53it/s]\n",
            "118745it [00:07, 15338.51it/s]\n",
            "142565it [00:09, 14827.03it/s]\n"
          ],
          "name": "stderr"
        }
      ]
    },
    {
      "cell_type": "code",
      "metadata": {
        "id": "vLwA2oAVhtH1"
      },
      "source": [
        "%%time\n",
        "stopwords = ['의', '가', '이', '은', '들', '는', '좀', '잘', '걍', '과', '도', '를', '으로', '자', '에', '와', '한', '하다']\n",
        "def get_model_input(_words): #필요없는 단어들 없애는 함수\n",
        "    global stopwords\n",
        "    _words = [x for x in _words if x[0] not in stopwords]\n",
        "    _words = [x for x in _words if x[:-1] not in stopwords]\n",
        "    for i in range(len(_words)-1):\n",
        "        yield _words[i]\n",
        "\n",
        "train_paragraph, Y_train = [], []\n",
        "for lwords in train_par:\n",
        "    Y_train.append(lwords[1])\n",
        "    temp = []\n",
        "    for x in get_model_input(lwords[0]):\n",
        "        if len(x) != 1:\n",
        "            temp.append(\"{}\".format(x))\n",
        "    train_paragraph.append(\" \".join(temp))\n",
        "\n",
        "test_paragraph = []\n",
        "for lwords in test_par:\n",
        "    temp = []\n",
        "    for x in get_model_input(lwords[0]):\n",
        "        if len(x) != 1:\n",
        "            temp.append(\"{}\".format(x))\n",
        "    test_paragraph.append(\" \".join(temp))\n",
        "\n",
        "train_title = []\n",
        "for lwords in train_tit:\n",
        "    temp = []\n",
        "    for x in get_model_input(lwords[0]):\n",
        "        if len(x) != 1:\n",
        "            temp.append(\"{}\".format(x))\n",
        "    train_title.append(\" \".join(temp))\n",
        "\n",
        "test_title = []\n",
        "for lwords in test_tit:\n",
        "    temp = []\n",
        "    for x in get_model_input(lwords[0]):\n",
        "        if len(x) != 1:\n",
        "            temp.append(\"{}\".format(x))\n",
        "    test_title.append(\" \".join(temp))"
      ],
      "execution_count": null,
      "outputs": []
    },
    {
      "cell_type": "code",
      "metadata": {
        "colab": {
          "base_uri": "https://localhost:8080/"
        },
        "id": "1RiCtAmFtYTe",
        "outputId": "4650c1f1-7048-470f-f611-5095905b1340"
      },
      "source": [
        "%%time\r\n",
        "vectorizer=TfidfVectorizer(ngram_range=(1, 3),\r\n",
        "    min_df=2,   \r\n",
        "    max_features=10000,\r\n",
        "    sublinear_tf=True,\r\n",
        "    lowercase=False,\r\n",
        "    use_idf=True)\r\n",
        "vec_train_tit= vectorizer.fit_transform(train_title)\r\n",
        "vec_test_tit= vectorizer.transform(test_title)\r\n",
        "vec_train_par= vectorizer.fit_transform(train_paragraph)\r\n",
        "vec_test_par= vectorizer.transform(test_paragraph)"
      ],
      "execution_count": null,
      "outputs": [
        {
          "output_type": "stream",
          "text": [
            "CPU times: user 14.8 s, sys: 193 ms, total: 15 s\n",
            "Wall time: 15 s\n"
          ],
          "name": "stdout"
        }
      ]
    },
    {
      "cell_type": "code",
      "metadata": {
        "id": "AOP-46w0INeJ"
      },
      "source": [
        "Y_train = list(train['info'])"
      ],
      "execution_count": null,
      "outputs": []
    },
    {
      "cell_type": "code",
      "metadata": {
        "id": "-e0hVzfej61w"
      },
      "source": [
        "%%time\n",
        "#0.95\n",
        "lgbm = LGBMClassifier(n_estimators=1080,\n",
        "                     learning_rate=0.058,\n",
        "                     min_child_samples=85,\n",
        "                     random_state=2020,\n",
        "                     )\n",
        "lgbm.fit(vec_train_par, Y_train)\n",
        "lgbm_y=lgbm.predict_proba(vec_test_par)\n",
        "lgbm_result = [1 if i[1] >= 0.5 else 0 for i in lgbm_y]"
      ],
      "execution_count": null,
      "outputs": []
    },
    {
      "cell_type": "code",
      "metadata": {
        "id": "jYeJDNsJLrWl"
      },
      "source": [
        "result = pd.DataFrame()\n",
        "result['lgbm'] = lgbm_result"
      ],
      "execution_count": null,
      "outputs": []
    },
    {
      "cell_type": "code",
      "metadata": {
        "id": "RUMidcqbKJie"
      },
      "source": [
        "from sklearn.calibration import CalibratedClassifierCV\n",
        "from sklearn.naive_bayes import MultinomialNB\n",
        "from sklearn.svm import LinearSVC\n",
        "\n",
        "def MNB(train_X, train_y, test_X):\n",
        "    model = CalibratedClassifierCV(MultinomialNB(alpha=0.03), method='isotonic')\n",
        "    model.fit(train_X, train_y)\n",
        "    pred_test = model.predict_proba(test_X)\n",
        "    model_result = [1 if i[1] >= 0.5 else 0 for i in pred_test]\n",
        "    return model_result\n",
        "\n",
        "def LinearSVM(train_X, train_y, test_X):\n",
        "    model = CalibratedClassifierCV(LinearSVC(), method='isotonic')\n",
        "    model.fit(train_X, train_y)\n",
        "    pred_test = model.predict_proba(test_X)\n",
        "    model_result = [1 if i[1] >= 0.5 else 0 for i in pred_test]\n",
        "    return model_result"
      ],
      "execution_count": null,
      "outputs": []
    },
    {
      "cell_type": "code",
      "metadata": {
        "id": "yqkZ6HE6K4ib"
      },
      "source": [
        "%%time\n",
        "#0.95\n",
        "lgbm = LGBMClassifier(n_estimators=1080,\n",
        "                     learning_rate=0.058,\n",
        "                     min_child_samples=85,\n",
        "                     random_state=2020,\n",
        "                     )\n",
        "lgbm.fit(vec_train_par, Y_train)\n",
        "lgbm_y=lgbm.predict_proba(vec_test_par)\n",
        "lgbm_result = [1 if i[1] >= 0.5 else 0 for i in lgbm_y]\n",
        "result = pd.dataframe()\n",
        "result['lgbm'] = lgbm_result"
      ],
      "execution_count": null,
      "outputs": []
    },
    {
      "cell_type": "code",
      "metadata": {
        "colab": {
          "base_uri": "https://localhost:8080/"
        },
        "id": "LC5idbjkB354",
        "outputId": "7ab00ca2-e197-424d-da8a-9c3aad6c6be9"
      },
      "source": [
        "%%time\n",
        "result['mnb'] = MNB(vec_train_par, Y_train, vec_test_par)\n",
        "result['linearsvm'] = LinearSVM(vec_train_par, Y_train, vec_test_par)"
      ],
      "execution_count": null,
      "outputs": [
        {
          "output_type": "stream",
          "text": [
            "CPU times: user 3.83 s, sys: 12 ms, total: 3.84 s\n",
            "Wall time: 3.85 s\n"
          ],
          "name": "stdout"
        }
      ]
    },
    {
      "cell_type": "code",
      "metadata": {
        "colab": {
          "base_uri": "https://localhost:8080/",
          "height": 419
        },
        "id": "TNyIjcIDO22b",
        "outputId": "2df47276-cf77-428a-e3b8-1e80b8cef12e"
      },
      "source": [
        "result"
      ],
      "execution_count": null,
      "outputs": [
        {
          "output_type": "execute_result",
          "data": {
            "text/html": [
              "<div>\n",
              "<style scoped>\n",
              "    .dataframe tbody tr th:only-of-type {\n",
              "        vertical-align: middle;\n",
              "    }\n",
              "\n",
              "    .dataframe tbody tr th {\n",
              "        vertical-align: top;\n",
              "    }\n",
              "\n",
              "    .dataframe thead th {\n",
              "        text-align: right;\n",
              "    }\n",
              "</style>\n",
              "<table border=\"1\" class=\"dataframe\">\n",
              "  <thead>\n",
              "    <tr style=\"text-align: right;\">\n",
              "      <th></th>\n",
              "      <th>lgbm</th>\n",
              "      <th>mnb</th>\n",
              "      <th>linearsvm</th>\n",
              "    </tr>\n",
              "  </thead>\n",
              "  <tbody>\n",
              "    <tr>\n",
              "      <th>0</th>\n",
              "      <td>0</td>\n",
              "      <td>0</td>\n",
              "      <td>0</td>\n",
              "    </tr>\n",
              "    <tr>\n",
              "      <th>1</th>\n",
              "      <td>0</td>\n",
              "      <td>0</td>\n",
              "      <td>0</td>\n",
              "    </tr>\n",
              "    <tr>\n",
              "      <th>2</th>\n",
              "      <td>0</td>\n",
              "      <td>0</td>\n",
              "      <td>0</td>\n",
              "    </tr>\n",
              "    <tr>\n",
              "      <th>3</th>\n",
              "      <td>0</td>\n",
              "      <td>0</td>\n",
              "      <td>0</td>\n",
              "    </tr>\n",
              "    <tr>\n",
              "      <th>4</th>\n",
              "      <td>0</td>\n",
              "      <td>0</td>\n",
              "      <td>0</td>\n",
              "    </tr>\n",
              "    <tr>\n",
              "      <th>...</th>\n",
              "      <td>...</td>\n",
              "      <td>...</td>\n",
              "      <td>...</td>\n",
              "    </tr>\n",
              "    <tr>\n",
              "      <th>142560</th>\n",
              "      <td>1</td>\n",
              "      <td>1</td>\n",
              "      <td>1</td>\n",
              "    </tr>\n",
              "    <tr>\n",
              "      <th>142561</th>\n",
              "      <td>1</td>\n",
              "      <td>1</td>\n",
              "      <td>1</td>\n",
              "    </tr>\n",
              "    <tr>\n",
              "      <th>142562</th>\n",
              "      <td>1</td>\n",
              "      <td>1</td>\n",
              "      <td>1</td>\n",
              "    </tr>\n",
              "    <tr>\n",
              "      <th>142563</th>\n",
              "      <td>1</td>\n",
              "      <td>1</td>\n",
              "      <td>1</td>\n",
              "    </tr>\n",
              "    <tr>\n",
              "      <th>142564</th>\n",
              "      <td>1</td>\n",
              "      <td>1</td>\n",
              "      <td>1</td>\n",
              "    </tr>\n",
              "  </tbody>\n",
              "</table>\n",
              "<p>142565 rows × 3 columns</p>\n",
              "</div>"
            ],
            "text/plain": [
              "        lgbm  mnb  linearsvm\n",
              "0          0    0          0\n",
              "1          0    0          0\n",
              "2          0    0          0\n",
              "3          0    0          0\n",
              "4          0    0          0\n",
              "...      ...  ...        ...\n",
              "142560     1    1          1\n",
              "142561     1    1          1\n",
              "142562     1    1          1\n",
              "142563     1    1          1\n",
              "142564     1    1          1\n",
              "\n",
              "[142565 rows x 3 columns]"
            ]
          },
          "metadata": {
            "tags": []
          },
          "execution_count": 29
        }
      ]
    },
    {
      "cell_type": "code",
      "metadata": {
        "id": "nbbQgeHBPKFz"
      },
      "source": [
        "result['mean'] = result['lgbm']*0.9+result['mnb']*0.1+result['linearsvm']*0.1"
      ],
      "execution_count": null,
      "outputs": []
    },
    {
      "cell_type": "code",
      "metadata": {
        "colab": {
          "base_uri": "https://localhost:8080/"
        },
        "id": "cO-97nHIt1jz",
        "outputId": "fabfc4b1-6887-4d5e-adfe-2368165baa10"
      },
      "source": [
        "%%time\r\n",
        "submission = pd.DataFrame(\r\n",
        "{\"id\" : test.id,\r\n",
        "\"info\" : result['mean']})\r\n",
        "submission.head()\r\n",
        "submission.to_csv(\"mecab_lightGBM_param8.csv\", index = False)"
      ],
      "execution_count": null,
      "outputs": [
        {
          "output_type": "stream",
          "text": [
            "CPU times: user 241 ms, sys: 6.99 ms, total: 248 ms\n",
            "Wall time: 248 ms\n"
          ],
          "name": "stdout"
        }
      ]
    },
    {
      "cell_type": "code",
      "metadata": {
        "id": "8AGODYOmm6O7"
      },
      "source": [
        ""
      ],
      "execution_count": null,
      "outputs": []
    }
  ]
}